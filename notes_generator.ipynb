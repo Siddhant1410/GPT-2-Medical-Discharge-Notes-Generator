{
 "cells": [
  {
   "cell_type": "markdown",
   "id": "1870613b-a29e-4824-92c5-44deabbe97cf",
   "metadata": {},
   "source": [
    "Extract admission date, discharge date and Subject ID from ADMISSIONS.csv"
   ]
  },
  {
   "cell_type": "code",
   "execution_count": 1,
   "id": "e114ef4f",
   "metadata": {},
   "outputs": [],
   "source": [
    "import csv\n",
    "sub_id = \"00000\"\n",
    "admt_time = \"\"\n",
    "disch_time = \"\"\n",
    "\n",
    "with open('samples/ADMISSIONS.csv') as adm:\n",
    "   csv_reader = csv.reader(adm)\n",
    "   for index, row in enumerate(csv_reader):\n",
    "        if index == 1:\n",
    "            sub_id = (row[1])\n",
    "        if sub_id in row:\n",
    "            admt_time = (row[3])\n",
    "            disch_time = (row[4])\n",
    "\n",
    "adm.close()"
   ]
  },
  {
   "cell_type": "markdown",
   "id": "25f83a48-0a0e-4f23-a002-6ed5426b2227",
   "metadata": {},
   "source": [
    "Extract ICD9 code of diagnosis for the same patient, and decode the ICD9 code from DIAGNOSES_ICD.csv"
   ]
  },
  {
   "cell_type": "code",
   "execution_count": 2,
   "id": "68944347",
   "metadata": {},
   "outputs": [
    {
     "name": "stdout",
     "output_type": "stream",
     "text": [
      "Intel MKL WARNING: Support of Intel(R) Streaming SIMD Extensions 4.2 (Intel(R) SSE4.2) enabled only processors has been deprecated. Intel oneAPI Math Kernel Library 2025.0 will require Intel(R) Advanced Vector Extensions (Intel(R) AVX) instructions.\n",
      "Intel MKL WARNING: Support of Intel(R) Streaming SIMD Extensions 4.2 (Intel(R) SSE4.2) enabled only processors has been deprecated. Intel oneAPI Math Kernel Library 2025.0 will require Intel(R) Advanced Vector Extensions (Intel(R) AVX) instructions.\n"
     ]
    }
   ],
   "source": [
    "from icd9cms.icd9 import search\n",
    "icd9_code = []\n",
    "with open('samples/DIAGNOSES_ICD.csv') as icd:\n",
    "   csv_reader = csv.reader(icd)\n",
    "   for index, row in enumerate(csv_reader):\n",
    "        if sub_id in row:\n",
    "            icd9_code.append(row[4])\n",
    "icd.close()\n",
    "if len(icd9_code) == 0:\n",
    "    print(\"N/A. No Diagnoses data found.\")\n",
    "else:\n",
    "    icd = str(icd9_code[0])\n",
    "    # icd = icd[:3] + '.' + icd[3:]\n",
    "    icd_desc = search(icd)\n",
    "    icd_desc = str(icd_desc).replace(str(icd), \"\")\n",
    "    icd_desc = icd_desc.replace(\":\", \", \") + \".\""
   ]
  },
  {
   "cell_type": "markdown",
   "id": "168a8506-8f2b-4f44-8acb-3606c15a94ed",
   "metadata": {},
   "source": [
    "Extract all Administered Medication list for the patient from PRESCRIPTIONS.csv"
   ]
  },
  {
   "cell_type": "code",
   "execution_count": 3,
   "id": "88b4f8fa",
   "metadata": {},
   "outputs": [
    {
     "name": "stdout",
     "output_type": "stream",
     "text": [
      "['Sodium Chloride 0.9%  Flush', 'Glipizide', 'Metoprolol', 'Sevelamer', 'Insulin', 'Pantoprazole', 'Acetaminophen', 'Magnesium Oxide', 'Docusate Sodium', 'Senna', 'Magnesium Sulfate', 'Linezolid', 'Potassium Chloride', 'Diphenhydramine HCl', 'Zolpidem Tartrate', 'Midazolam HCl', 'Metronidazole', 'Levofloxacin', 'Phytonadione', 'Oxycodone-Acetaminophen', 'Alteplase (Catheter Clearance)', 'Warfarin', 'Moexipril HCl', 'Aspirin', 'Atorvastatin', 'Metoclopramide', 'Pneumococcal Vac Polyvalent', 'Ceftriaxone', 'Vancomycin HCl', 'Ampicillin Sodium', 'Unasyn', 'Iso-Osmotic Dextrose', 'NS', 'D5W']\n"
     ]
    }
   ],
   "source": [
    "PRESCRIPTIONS = []\n",
    "with open('samples/PRESCRIPTIONS.csv') as presc:\n",
    "   csv_reader = csv.reader(presc)\n",
    "   for index, row in enumerate(csv_reader):\n",
    "        if sub_id in row:\n",
    "            PRESCRIPTIONS.append(row[7])\n",
    "presc.close()\n",
    "\n",
    "PRESCRIPTIONS = list(dict.fromkeys(PRESCRIPTIONS))\n",
    "if len(PRESCRIPTIONS) == 0:\n",
    "    print(\"N/A. No prescription data found.\")\n",
    "else:\n",
    "    print(str(PRESCRIPTIONS))\n",
    "presc = str(PRESCRIPTIONS)"
   ]
  },
  {
   "cell_type": "markdown",
   "id": "d8f302ea-7533-43e3-9328-530efbc38e74",
   "metadata": {},
   "source": [
    "Load the GPT2 model and Tokenizer "
   ]
  },
  {
   "cell_type": "code",
   "execution_count": 4,
   "id": "c34c8f52-7723-46ba-a93c-de5b11c46d08",
   "metadata": {},
   "outputs": [
    {
     "name": "stderr",
     "output_type": "stream",
     "text": [
      "2023-08-02 21:10:39.099800: I tensorflow/core/platform/cpu_feature_guard.cc:182] This TensorFlow binary is optimized to use available CPU instructions in performance-critical operations.\n",
      "To enable the following instructions: SSE4.1 SSE4.2, in other operations, rebuild TensorFlow with the appropriate compiler flags.\n",
      "All PyTorch model weights were used when initializing TFGPT2LMHeadModel.\n",
      "\n",
      "All the weights of TFGPT2LMHeadModel were initialized from the PyTorch model.\n",
      "If your task is similar to the task the model of the checkpoint was trained on, you can already use TFGPT2LMHeadModel for predictions without further training.\n"
     ]
    }
   ],
   "source": [
    "import tensorflow as tf\n",
    "from transformers import TFGPT2LMHeadModel, GPT2Tokenizer\n",
    "# from transformers import OpenAIGPTTokenizer, OpenAIGPTModel\n",
    "\n",
    "\n",
    "tokenizer = GPT2Tokenizer.from_pretrained(\"gpt2\")\n",
    "\n",
    "# add the EOS token as PAD token to avoid warnings\n",
    "model = TFGPT2LMHeadModel.from_pretrained(\"gpt2\", pad_token_id=tokenizer.eos_token_id)\n",
    "\n"
   ]
  },
  {
   "cell_type": "markdown",
   "id": "a640388b-11f7-46f2-8f76-e9fb0d750bd5",
   "metadata": {},
   "source": [
    "Build the PDF format and write data"
   ]
  },
  {
   "cell_type": "code",
   "execution_count": 8,
   "id": "12be23f0-d1df-41ba-b7b8-bcdb33259294",
   "metadata": {},
   "outputs": [
    {
     "name": "stdout",
     "output_type": "stream",
     "text": [
      "Report Generated Successfully.\n"
     ]
    }
   ],
   "source": [
    "import os\n",
    "from fpdf import FPDF\n",
    "\n",
    "import random\n",
    "\n",
    "no_of_reports = 1\n",
    "\n",
    "for j in range(1,int(no_of_reports+1)):\n",
    "    pdf = FPDF(format = 'A4')\n",
    "    pdf.add_page()\n",
    "    pdf.set_font('helvetica', '', 13.0)\n",
    "    pdf.set_xy(60,8)\n",
    "    pdf.cell(ln=1, h=22.0, align='C', w=75.0, txt='Auto Generated Clinical Note.', border=0)\n",
    "    pdf.set_x(25)\n",
    "\n",
    "    pdf.cell(ln=0, h=8.0, align='L', w=75, txt='Subject ID', border=1)\n",
    "    pdf.cell(ln=1, h=8.0, align='L', w=75, txt=sub_id, border=1)\n",
    "\n",
    "    pdf.set_xy(25,40)\n",
    "    pdf.cell(ln=0, h=8.0, align='L', w=75, txt='Admission Date and time', border=1)\n",
    "    pdf.cell(ln=1, h=8.0, align='L', w=75, txt=admt_time, border=1)\n",
    "\n",
    "\n",
    "    pdf.set_xy(25, 50)\n",
    "    pdf.cell(ln=0, h=8.0, align='L', w=75, txt='Discharge Date and time', border=1)\n",
    "    pdf.cell(ln=1, h=8.0, align='L', w=75, txt=disch_time, border=1)\n",
    "\n",
    "    pdf.dashed_line(20, 70, 180, 70, dash_length = 1, space_length = 1)\n",
    "    pdf.set_xy(60, 75)\n",
    "    pdf.set_font('helvetica', '', 13.0)\n",
    "    pdf.cell(ln=1, h=13.0, align='C', w=75.0, txt='Full Prescription Summary', border=0)\n",
    "\n",
    "    pdf.set_font('helvetica', '', 10.0)\n",
    "\n",
    "\n",
    "    pdf.set_line_width(0.0)\n",
    "    pdf.rect(15.0, 15.0, 170.0, 245.0)\n",
    "    pdf.set_x(25)\n",
    "    pdf.multi_cell( h=4.0, align='C', w=160, txt=presc, border=0)\n",
    "\n",
    "    pdf.dashed_line(20, 130, 180, 130, dash_length = 1, space_length = 1)\n",
    "\n",
    "    pdf.set_xy(60, 185)\n",
    "    pdf.set_font('helvetica', '', 13.0)\n",
    "    pdf.cell(ln=1, h=13.0, align='C', w=75.0, txt='Notes', border=0)\n",
    "\n",
    "    pdf.set_font('helvetica', '', 10.0)\n",
    "\n",
    "    pdf.set_line_width(0.0)\n",
    "    pdf.rect(15.0, 15.0, 170.0, 245.0)\n",
    "\n",
    "    ''' Below, we write the initial text, and later on,\n",
    "        the GPT2 generator concatenates the relevant medical notes, based on the initial text '''\n",
    "    \n",
    "    input_ids = tokenizer.encode('The patient was diagnosed with ' + icd_desc + \" and showed symptoms of \", return_tensors='tf')\n",
    "    sample_outputs = model.generate(input_ids,do_sample=True, max_length=150, top_k=100, top_p=0.85, num_return_sequences=1)\n",
    "    output = tokenizer.decode(sample_outputs[0], skip_special_tokens=True).replace(\"\\r\\n\", \"\").replace('\\n\\n', '').replace('\\n', '')\n",
    "    #print(output)\n",
    "    pdf.set_xy(25,150)\n",
    "    pdf.multi_cell( h=4.0, align='L', w=160, txt=output, border=0)\n",
    "                 \n",
    "    pdf.output(f\"./{j}_summary.pdf\", 'F')\n",
    "    print(\"Report Generated Successfully.\")"
   ]
  },
  {
   "cell_type": "code",
   "execution_count": 6,
   "id": "5bd7d774-805b-4e6e-a94e-673975a8674f",
   "metadata": {},
   "outputs": [
    {
     "name": "stdout",
     "output_type": "stream",
     "text": [
      "Input Data Provided from Dataset: \n",
      "\n",
      "ADMISSIONS.csv: \n",
      "Subject ID: 10006\n",
      "Admission Time: 2164-10-23 21:09:00\n",
      "Discharge Time: 2164-11-01 17:15:00\n",
      "\n",
      "DIAGNOSIS_ICD.csv: \n",
      "Diagnosis ICD9 Code: , Sepsis, Sepsis.\n",
      "\n",
      "PRESCRIPTIONS.csv: \n",
      "['Sodium Chloride 0.9%  Flush', 'Glipizide', 'Metoprolol', 'Sevelamer', 'Insulin', 'Pantoprazole', 'Acetaminophen', 'Magnesium Oxide', 'Docusate Sodium', 'Senna', 'Magnesium Sulfate', 'Linezolid', 'Potassium Chloride', 'Diphenhydramine HCl', 'Zolpidem Tartrate', 'Midazolam HCl', 'Metronidazole', 'Levofloxacin', 'Phytonadione', 'Oxycodone-Acetaminophen', 'Alteplase (Catheter Clearance)', 'Warfarin', 'Moexipril HCl', 'Aspirin', 'Atorvastatin', 'Metoclopramide', 'Pneumococcal Vac Polyvalent', 'Ceftriaxone', 'Vancomycin HCl', 'Ampicillin Sodium', 'Unasyn', 'Iso-Osmotic Dextrose', 'NS', 'D5W']\n"
     ]
    }
   ],
   "source": [
    "print(\"Input Data Provided from Dataset: \")\n",
    "print(\"\")\n",
    "print(\"ADMISSIONS.csv: \")\n",
    "print(\"Subject ID: \" + sub_id)\n",
    "print(\"Admission Time: \" + str(admt_time))\n",
    "print(\"Discharge Time: \" + str(disch_time))\n",
    "print(\"\")\n",
    "print(\"DIAGNOSIS_ICD.csv: \")\n",
    "print(\"Diagnosis ICD9 Code: \" + icd_desc)\n",
    "print(\"\")\n",
    "print(\"PRESCRIPTIONS.csv: \")\n",
    "print(presc)"
   ]
  },
  {
   "cell_type": "code",
   "execution_count": null,
   "id": "74744b95-c96c-46cb-b2c3-557483845ecd",
   "metadata": {},
   "outputs": [],
   "source": []
  }
 ],
 "metadata": {
  "kernelspec": {
   "display_name": "gpt",
   "language": "python",
   "name": "gpt"
  },
  "language_info": {
   "codemirror_mode": {
    "name": "ipython",
    "version": 3
   },
   "file_extension": ".py",
   "mimetype": "text/x-python",
   "name": "python",
   "nbconvert_exporter": "python",
   "pygments_lexer": "ipython3",
   "version": "3.8.17"
  }
 },
 "nbformat": 4,
 "nbformat_minor": 5
}
