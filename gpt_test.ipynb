{
 "cells": [
  {
   "cell_type": "code",
   "execution_count": 1,
   "id": "6b28c0af-f778-4eff-8678-4a57bd0eea0c",
   "metadata": {},
   "outputs": [
    {
     "name": "stderr",
     "output_type": "stream",
     "text": [
      "2023-08-14 16:59:33.171929: I tensorflow/core/platform/cpu_feature_guard.cc:182] This TensorFlow binary is optimized to use available CPU instructions in performance-critical operations.\n",
      "To enable the following instructions: SSE4.1 SSE4.2, in other operations, rebuild TensorFlow with the appropriate compiler flags.\n"
     ]
    }
   ],
   "source": [
    "from transformers import GPT2LMHeadModel, GPT2Tokenizer\n",
    "from icd9cms.icd9 import search\n",
    "icd9_code = []"
   ]
  },
  {
   "cell_type": "code",
   "execution_count": 2,
   "id": "308c83b4-6d9d-4da4-a5b9-caf9753ae237",
   "metadata": {},
   "outputs": [],
   "source": [
    "def generate_text(input_text, model_path):\n",
    "    tokenizer = GPT2Tokenizer.from_pretrained('gpt2-medium')\n",
    "    model = GPT2LMHeadModel.from_pretrained(model_path, pad_token_id=tokenizer.eos_token_id)\n",
    "\n",
    "    inputs = tokenizer.encode(input_text, return_tensors='pt')\n",
    "\n",
    "    outputs = model.generate(inputs, max_length=200, num_return_sequences=1, do_sample=True, temperature=0.7, no_repeat_ngram_size=2) #tweakable parameters\n",
    "    \n",
    "#    for i in range(5):\n",
    "#        print(tokenizer.decode(outputs[i], skip_special_tokens=True))\n",
    "    return tokenizer.decode(outputs[0], skip_special_tokens=True)\n"
   ]
  },
  {
   "cell_type": "code",
   "execution_count": 3,
   "id": "5e803787-a77c-477d-a761-66d62e68328a",
   "metadata": {},
   "outputs": [
    {
     "name": "stdin",
     "output_type": "stream",
     "text": [
      "Enter Patient's Admission date:  01/12/2006\n",
      "Sex: Male / Female?:  Female\n",
      "Patient diagnosis icd9 code:  20280\n"
     ]
    },
    {
     "name": "stdout",
     "output_type": "stream",
     "text": [
      "Pateint Summary: \n",
      "Patient was Admitted on Date: 01/12/2006. Patient is a Female and has been Diagnosed with:, Oth lymp unsp xtrndl org, Other malignant lymphomas, unspecified site, extranodal and solid organ sites.. The patient is advised to be monitored for chest pain.. Patient has received 1 dose of tretinoin (1 dose was given to her in November and 1 from her previous discharge date), and is well tolerated. She is currently taking a 1.5 mg. daily dose. The Patient was also given a corticosteroid within the last week of discharge.\n",
      "\n",
      "The Patient received a dose 3 times a week for the past month. Her chest was enlarged and she had a small vein of the upper right side of her neck. A local lesion developed on her abdomen. There was no significant increase in her blood pressure. In addition, her fever was elevated. One patient was treated with a syringe\n"
     ]
    }
   ],
   "source": [
    "def main():\n",
    "    admn_date = input(\"Enter Patient's Admission date: \")\n",
    "    sex = input(\"Sex: Male / Female?: \")\n",
    "    \n",
    "    diag_icd = input(\"Patient diagnosis icd9 code: \")\n",
    "    diagnosis = search(diag_icd)\n",
    "    diagnosis = str(diagnosis).replace(str(diag_icd), \"\")\n",
    "    diagnosis = diagnosis.replace(\":\", \", \") + \".\"\n",
    "    print(\"Pateint Summary: \")\n",
    "    input_text = \"Patient was Admitted on Date: \"+ admn_date +\". \" + \"Patient is a \" + sex+\" \" + \"and has been Diagnosed with: \" + diagnosis + \". \" + \"The patient is advised to\"\n",
    "    model_path = \"./gpt2_medium_finetuned\"  # path to the fine-tuned model\n",
    "    output_text = generate_text(input_text, model_path)\n",
    "\n",
    "    print(output_text)\n",
    "\n",
    "if __name__ == '__main__':\n",
    "    main()\n"
   ]
  }
 ],
 "metadata": {
  "kernelspec": {
   "display_name": "gpt",
   "language": "python",
   "name": "gpt"
  },
  "language_info": {
   "codemirror_mode": {
    "name": "ipython",
    "version": 3
   },
   "file_extension": ".py",
   "mimetype": "text/x-python",
   "name": "python",
   "nbconvert_exporter": "python",
   "pygments_lexer": "ipython3",
   "version": "3.8.17"
  }
 },
 "nbformat": 4,
 "nbformat_minor": 5
}
