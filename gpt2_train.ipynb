{
 "cells": [
  {
   "cell_type": "code",
   "execution_count": null,
   "id": "d83dc360-d210-4447-acc0-8e8360e4f3ab",
   "metadata": {},
   "outputs": [],
   "source": [
    "from transformers import GPT2LMHeadModel, GPT2Tokenizer, TextDataset, DataCollatorForLanguageModeling\n",
    "from transformers import Trainer, TrainingArguments"
   ]
  },
  {
   "cell_type": "code",
   "execution_count": null,
   "id": "ec8904ca-e169-4ba0-9f6a-6d592be1e464",
   "metadata": {},
   "outputs": [],
   "source": [
    "def load_dataset(train_path,test_path,tokenizer):\n",
    "    train_dataset = TextDataset(\n",
    "        tokenizer=tokenizer,\n",
    "        file_path=train_path,\n",
    "        block_size=128)\n",
    "\n",
    "    test_dataset = TextDataset(\n",
    "        tokenizer=tokenizer,\n",
    "        file_path=test_path,\n",
    "        block_size=128)\n",
    "\n",
    "    data_collator = DataCollatorForLanguageModeling(\n",
    "        tokenizer=tokenizer, mlm=False)\n",
    "\n",
    "    return train_dataset,test_dataset,data_collator"
   ]
  },
  {
   "cell_type": "code",
   "execution_count": null,
   "id": "132412d8-12af-4d5c-9305-6b2a23f0c011",
   "metadata": {},
   "outputs": [],
   "source": [
    "def train(model_path,training_args,train_dataset,test_dataset,data_collator):\n",
    "    model = GPT2LMHeadModel.from_pretrained(model_path)\n",
    "\n",
    "    trainer = Trainer(\n",
    "        model=model,\n",
    "        args=training_args,\n",
    "        train_dataset=train_dataset,\n",
    "        eval_dataset=test_dataset,\n",
    "        data_collator=data_collator,\n",
    "        prediction_loss_only=True,\n",
    "    )\n",
    "\n",
    "    trainer.train()\n",
    "    trainer.save_model()"
   ]
  },
  {
   "cell_type": "code",
   "execution_count": null,
   "id": "c90f764e-3090-4dc3-8bb7-7804ae83ebd9",
   "metadata": {},
   "outputs": [],
   "source": [
    "def main():\n",
    "    tokenizer = GPT2Tokenizer.from_pretrained('gpt2-medium')\n",
    "\n",
    "    train_dataset,test_dataset,data_collator = load_dataset('train_1.txt','test_1.txt',tokenizer)\n",
    "\n",
    "    training_args = TrainingArguments(\n",
    "        output_dir=\"gpt2_medium_finetuned\", #The output directory\n",
    "        overwrite_output_dir=True, #overwrite the content of the output directory\n",
    "        num_train_epochs=3, # number of training epochs\n",
    "        evaluation_strategy='steps', # Validation accuracy to print after every eval_steps\n",
    "        per_device_train_batch_size=32, # batch size for training\n",
    "        per_device_eval_batch_size=64,  # batch size for evaluation\n",
    "        eval_steps = 200, # Number of update steps between two evaluations.\n",
    "        save_steps=400, # after # steps model is saved\n",
    "        warmup_steps=100,# number of warmup steps for learning rate scheduler\n",
    "        logging_steps=1,\n",
    "        )\n",
    "\n",
    "    train('gpt2-medium', training_args,train_dataset,test_dataset,data_collator)\n",
    "\n",
    "if __name__ == '__main__':\n",
    "    main()"
   ]
  }
 ],
 "metadata": {
  "kernelspec": {
   "display_name": "gpt",
   "language": "python",
   "name": "gpt"
  },
  "language_info": {
   "codemirror_mode": {
    "name": "ipython",
    "version": 3
   },
   "file_extension": ".py",
   "mimetype": "text/x-python",
   "name": "python",
   "nbconvert_exporter": "python",
   "pygments_lexer": "ipython3",
   "version": "3.8.17"
  }
 },
 "nbformat": 4,
 "nbformat_minor": 5
}
